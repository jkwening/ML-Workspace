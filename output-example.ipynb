{
 "cells": [
  {
   "cell_type": "code",
   "execution_count": 1,
   "metadata": {},
   "outputs": [],
   "source": [
    "import os\n",
    "import sys\n",
    "\n",
    "# Add project path into sys path\n",
    "ROOT_PATH = os.path.abspath(os.path.join(os.pardir))\n",
    "sys.path.append(ROOT_PATH)"
   ]
  },
  {
   "cell_type": "code",
   "execution_count": 2,
   "metadata": {},
   "outputs": [],
   "source": [
    "from search_engine.search_engine import SearchEngine"
   ]
  },
  {
   "cell_type": "code",
   "execution_count": 3,
   "metadata": {},
   "outputs": [
    {
     "name": "stdout",
     "output_type": "stream",
     "text": [
      "Processing 600 articles...\n",
      "Generating updated word frequency index. Processed... 50, 100, 150, 200, 250, 300, 350, 400, 450, 500, 550, 600, "
     ]
    }
   ],
   "source": [
    "engine = SearchEngine()"
   ]
  },
  {
   "cell_type": "code",
   "execution_count": 4,
   "metadata": {},
   "outputs": [
    {
     "name": "stdout",
     "output_type": "stream",
     "text": [
      "You searched for: \"obama\"\n",
      "----------------------------------------------------------------------------------------------------\n",
      "= Berkley Bedell = Berkley Warren Bedell ( born March 5 , 1921 ) is a former U.S. Representative from Iowa . After starting a successful business in his youth , Berkley Fly Co . , he ran for the\n",
      "= Chris Turner ( American football ) = Chris Turner ( born September 8 , 1987 ) is an American football quarterback . He played quarterback for the Maryland Terrapins at the University of Maryla\n",
      "= Bob Dylan = Bob Dylan ( / ˈdɪlən / ; born Robert Allen Zimmerman , May 24 , 1941 ) is an American singer @-@ songwriter , artist and writer . He has been influential in popular music and cultu\n",
      "= Mumia Abu @-@ Jamal = Mumia Abu @-@ Jamal ( born Wesley Cook April 24 , 1954 ) is a convicted murderer who was sentenced to death in 1982 for the 1981 murder of Philadelphia police officer Dan\n",
      "= 2010 Haiti earthquake = The 2010 Haiti earthquake ( French : Séisme de 2010 à Haïti ; Haitian Creole : Tranblemanntè 12 janvye 2010 nan peyi Ayiti ) was a catastrophic magnitude 7 @.@ 0 Mw ear\n",
      "= Rio de Janeiro bid for the 2016 Summer Olympics = The Rio de Janeiro bid for the 2016 Summer Olympics and Paralympics was a successful bid to host the Games of the XXXI Olympiad and the XV Par\n",
      "= Sholay = Sholay ( pronunciation , meaning \" Embers \" ) is a 1975 Indian Hindi @-@ language action @-@ adventure film directed by Ramesh Sippy and produced by his father G. P. Sippy . The film\n",
      "= Cambodian Campaign = The Cambodian Campaign ( also known as the Cambodian Incursion and the Cambodian Invasion ) was a series of military operations conducted in eastern Cambodia during 1970 b\n",
      "====================================================================================================\n",
      "You searched for: \"einstein\"\n",
      "----------------------------------------------------------------------------------------------------\n",
      "= Edward Creutz = Edward Creutz ( January 23 , 1913 – June 27 , 2009 ) was an American physicist who worked on the Manhattan Project at the Metallurgical Laboratory and the Los Alamos Laboratory\n",
      "= Transit of Venus = A transit of Venus across the Sun takes place when the planet Venus passes directly between the Sun and a superior planet , becoming visible against ( and hence obscuring a\n",
      "= Bob Dylan = Bob Dylan ( / ˈdɪlən / ; born Robert Allen Zimmerman , May 24 , 1941 ) is an American singer @-@ songwriter , artist and writer . He has been influential in popular music and cultu\n",
      "====================================================================================================\n",
      "You searched for: \"spanish\"\n",
      "----------------------------------------------------------------------------------------------------\n",
      "= Spanish Hill = Spanish Hill is a hill located in the borough of South Waverly , Pennsylvania . The hill is controversial among historians and archaeologists ; opinions regarding the origin of\n",
      "= HMS Hostile ( H55 ) = HMS Hostile ( H55 ) was an H @-@ class destroyer built for the Royal Navy in the 1930s . During the Spanish Civil War of 1936 – 1939 the ship spent considerable time in S\n",
      "= Mexico City Metropolitan Cathedral = The Metropolitan Cathedral of the Assumption of the Most Blessed Virgin Mary into Heaven ( Spanish : Catedral Metropolitana de la Asunción de la Santísima\n",
      "= HMS Comet ( H00 ) = HMS Comet was a C @-@ class destroyer built for the Royal Navy in the early 1930s . She saw service in the Home and Mediterranean Fleets and the ship spent six months durin\n",
      "= HMS Boreas ( H77 ) = HMS Boreas was a B @-@ class destroyer built for the Royal Navy around 1930 . Initially assigned to the Mediterranean Fleet , she was transferred to the Home Fleet in 1936\n",
      "= Papal conclave , 1769 = A papal conclave which lasted from 15 February to 19 May 1769 was convoked after the death of Pope Clement XIII . It elected as his successor Cardinal Lorenzo Ganganell\n",
      "= George Calvert , 1st Baron Baltimore = George Calvert , 1st Baron Baltimore ( 1579 – 15 April 1632 ) was an English politician and colonizer . He achieved domestic political success as a Membe\n",
      "= Rocky Mountain Horse = The Rocky Mountain Horse is a horse breed developed in the state of Kentucky in the United States . Despite its name , it originated not in the Rocky Mountains , but ins\n",
      "= Jane Dudley , Duchess of Northumberland = Jane Dudley ( née Guildford ) , Duchess of Northumberland ( 1508 / 1509 – 1555 ) was an English noblewoman , the wife of John Dudley , 1st Duke of Nor\n",
      "= The General in His Labyrinth = The General in His Labyrinth ( original Spanish title : El general en su laberinto ) is a novel by the Colombian writer and Nobel laureate Gabriel García Márquez\n",
      "====================================================================================================\n",
      "You searched for: \"india\"\n",
      "----------------------------------------------------------------------------------------------------\n",
      "= Independence Day ( India ) = Independence Day , observed annually on 15 August is a national holiday in India commemorating the nation 's independence from the British Empire on 15 August 1947\n",
      "= Vistara = Tata SIA Airlines Limited , operating as Vistara , is an Indian domestic airline based in Gurgaon with its hub at Delhi @-@ Indira Gandhi International Airport . The carrier , a join\n",
      "= Jacqueline Fernandez = Jacqueline Fernandez ( born 11 August 1985 ) is a Sri Lankan actress , former model , and the winner of the 2006 Miss Universe Sri Lanka pageant . As Miss Universe Sri L\n",
      "= Arikamedu = Arikamedu is an archaeological site in Southern India , inKakkayanthope , Ariyankuppam Commune , Puducherry . It is 4 kilometres ( 2 @.@ 5 mi ) from the capital , Pondicherry of th\n",
      "= Arihant @-@ class submarine = The Arihant class ( Sanskrit , for Killer of Enemies ) is a class of nuclear @-@ powered ballistic missile submarines being built for the Indian Navy . They were\n",
      "= Battle of Tellicherry = The Battle of Tellicherry was a naval action fought off the Indian port of Tellicherry between British and French warships on 18 November 1791 during the Third Anglo @-\n",
      "= Sholay = Sholay ( pronunciation , meaning \" Embers \" ) is a 1975 Indian Hindi @-@ language action @-@ adventure film directed by Ramesh Sippy and produced by his father G. P. Sippy . The film\n",
      "= Varanasi = Varanasi ( Hindustani pronunciation : [ ʋaːˈraːɳəsi ] ) , also known as Benares , Banaras ( Banāras [ bəˈnaːrəs ] ) , or Kashi ( Kāśī [ ˈkaːʃi ] ) , is a North Indian city on the ba\n",
      "= Mortimer Wheeler = Sir Robert Eric Mortimer Wheeler CH , CIE , MC , TD , FSA , FRS , FBA ( 10 September 1890 – 22 July 1976 ) was a British archaeologist and officer in the British Army . Over\n",
      "= Plum cake = Plum cake refers to a wide range of cakes made with either dried fruit ( such as grapes , currants , raisins or prunes ) or with fresh fruit . There is a wide range of popular plum\n",
      "====================================================================================================\n",
      "You searched for: \"director\"\n",
      "----------------------------------------------------------------------------------------------------\n",
      "= Texas A & M Singing Cadets = The Texas A & M Singing Cadets are a male choral group at Texas A & M University . Nicknamed \" The Voice of Aggieland \" , the Singing Cadets have been touring for\n",
      "= Not Quite Hollywood : The Wild , Untold Story of Ozploitation ! = Not Quite Hollywood : The Wild , Untold Story of Ozploitation ! is a 2008 Australian documentary film about the Australian New\n",
      "= Paul Thomas Anderson = Paul Thomas Anderson ( born June 26 , 1970 ) also known as P.T. Anderson , is an American film director , screenwriter and producer . Interested in film @-@ making at a\n",
      "= The Actor 's Children = The Actor 's Children is a 1910 American silent short drama written by Lloyd Lonergan and produced by the Thanhouser Company in New Rochelle , New York . The film featu\n",
      "= Truth in Numbers ? = Truth in Numbers ? Everything , According to Wikipedia is a 2010 American documentary film that explores the history and cultural implications of the online , user @-@ edi\n",
      "= T. Arthur Cottam = T. Arthur Cottam is a screenwriter , actor , producer and film director . A graduate of the Film and Television Production program at the Tisch School of the Arts of New Yor\n",
      "= Welsh National Opera = Welsh National Opera ( WNO ) ( Welsh : Opera Cenedlaethol Cymru ) is an opera company based in Cardiff , Wales ; it gave its first performances in 1946 . It began as a m\n",
      "= Edward Creutz = Edward Creutz ( January 23 , 1913 – June 27 , 2009 ) was an American physicist who worked on the Manhattan Project at the Metallurgical Laboratory and the Los Alamos Laboratory\n",
      "= Vitamin D ( Glee ) = \" Vitamin D \" is the sixth episode of the American television series Glee . The episode premiered on the Fox network on October 7 , 2009 . It was written by series creator\n",
      "= The Goat Puzzle = The Goat Puzzle , also known as The Infamous Goat Puzzle , The Infamous Goat , The Wretched Goat , The Goat of Lochmarne , or simply The Goat , is a puzzle featured in Revolu\n",
      "====================================================================================================\n",
      "You searched for: \"what are popular religions in the world\"\n",
      "----------------------------------------------------------------------------------------------------\n",
      "= Super Science Stories = Super Science Stories was an American pulp science fiction magazine published by Popular Publications from 1940 and 1943 , and again from 1949 to 1951 . Popular launche\n",
      "= Gambia women 's national football team = The Gambia women 's national football team represents the Gambia in international football competition . The team , however , has not competed in a mat\n",
      "= World War Z = World War Z : An Oral History of the Zombie War ( 2006 ) is an apocalyptic horror novel by Max Brooks . The novel is a collection of individual accounts narrated by an agent of t\n",
      "= World War I Memorial ( East Providence , Rhode Island ) = The World War I Memorial is a bronze sculpture by Pietro Montana and is located at the intersection of Taunton Avenue , Whelden Avenue\n",
      "= Until the Whole World Hears = Until the Whole World Hears is the fourth studio album by American Christian rock band Casting Crowns . Released on November 27 , 2009 , the album was produced by\n",
      "= England national rugby union team = The England national rugby union team represents England in rugby union . They compete in the annual Six Nations Championship with France , Ireland , Scotla\n",
      "= Humpty Dumpty = Humpty Dumpty is a character in an English nursery rhyme , probably originally a riddle and one of the best known in the English @-@ speaking world . He is typically portrayed\n",
      "= Trees ( poem ) = \" Trees \" is a lyric poem by American poet Joyce Kilmer . Written in February 1913 , it was first published in Poetry : A Magazine of Verse that August and included in Kilmer\n",
      "= Last Exit on Brooklyn = The Last Exit on Brooklyn was a Seattle University District coffeehouse established in 1967 by Irv Cisski . It is known for its part in the history of Seattle 's counte\n",
      "= Wales national rugby union team = The Wales national rugby union team ( Welsh : Tîm rygbi 'r undeb cenedlaethol Cymru ) represent Wales in international rugby union . They compete annually in\n",
      "====================================================================================================\n"
     ]
    }
   ],
   "source": [
    "query_list = [\n",
    "    'obama', 'einstein', 'spanish',\n",
    "    'india', 'director', 'what are popular religions in the world',\n",
    "]\n",
    "\n",
    "# Perform query search\n",
    "for query in query_list:\n",
    "    results = engine.search(query)\n",
    "    engine.display_results(query, results)"
   ]
  },
  {
   "cell_type": "code",
   "execution_count": 5,
   "metadata": {},
   "outputs": [
    {
     "name": "stdout",
     "output_type": "stream",
     "text": [
      "Processing 26000 articles...\n",
      "Generating updated word frequency index. Processed... 1000, 2000, 3000, 4000, 5000, 6000, 7000, 8000, 9000, 10000, 11000, 12000, 13000, 14000, 15000, 16000, 17000, 18000, 19000, 20000, 21000, 22000, 23000, 24000, 25000, 26000, 27000, 28000, 29000, "
     ]
    }
   ],
   "source": [
    "engine.select_wiki_data(wiki_large=True)"
   ]
  },
  {
   "cell_type": "code",
   "execution_count": 6,
   "metadata": {},
   "outputs": [
    {
     "name": "stdout",
     "output_type": "stream",
     "text": [
      "You searched for: \"obama\"\n",
      "----------------------------------------------------------------------------------------------------\n",
      "= Illinois 's 1st congressional district election , 2000 = The 2000 United States House of Representatives election for the 1st district in Illinois took place on November 7 , 2000 to elect a re\n",
      "= Chris Lu = Christopher P. Lu ( simplified Chinese : 卢沛宁 ; traditional Chinese : 盧沛寧 ; pinyin : Lú Pèiníng ; born June 12 , 1966 ) is the United States Deputy Secretary of Labor . He also serve\n",
      "= Citizen 's Briefing Book = Citizen 's Briefing Book is a compilation book of recommendations made to President Barack Obama by visitors to the Change.gov website , given to the President after\n",
      "= Barack Obama = Barack Hussein Obama II ( US / bəˈrɑːk huːˈseɪn oʊˈbɑːmə / ; born August 4 , 1961 ) is the 44th and current President of the United States . He is the first African American to\n",
      "= Michelle Obama = Michelle LaVaughn Robinson Obama ( born January 17 , 1964 ) is an American lawyer and writer . She is married to the 44th and current President of the United States , Barack O\n",
      "= Barack Obama \" Hope \" poster = The Barack Obama \" Hope \" poster is an image of Barack Obama designed by artist Shepard Fairey , which was widely described as iconic and came to represent his 2\n",
      "= First inauguration of Barack Obama = The first inauguration of Barack Obama as the 44th President of the United States took place on Tuesday , January 20 , 2009 . The inauguration , which set\n",
      "= Big Girls Don 't Cry ( book ) = Big Girls Don 't Cry : The Election that Changed Everything for American Women is a 2010 non @-@ fiction book written by American journalist Rebecca Traister an\n",
      "= 2011 White House shooting = The 2011 White House shooting occurred on November 11 , 2011 , when Oscar Ramiro Ortega @-@ Hernandez , an unemployed 21 @-@ year @-@ old man who was obsessed with\n",
      "= White House Astronomy Night = White House Astronomy Night ( and alternatively Astronomy Night on the National Mall ) is an event first organized by the White House in conjunction with the Offi\n",
      "====================================================================================================\n",
      "You searched for: \"einstein\"\n",
      "----------------------------------------------------------------------------------------------------\n",
      "= Albert Einstein = Albert Einstein ( / ˈaɪnstaɪn / ; German : [ ˈalbɛɐ ̯ t ˈaɪnʃtaɪn ] ; 14 March 1879 – 18 April 1955 ) was a German @-@ born theoretical physicist . He developed the general t\n",
      "= Einstein – Szilárd letter = The Einstein – Szilárd letter was a letter written by Leó Szilárd and signed by Albert Einstein that was sent to the United States President Franklin D. Roosevelt o\n",
      "= Introduction to general relativity = General relativity is a theory of gravitation that was developed by Albert Einstein between 1907 and 1915 . According to general relativity , the observed\n",
      "= hν . As shown by Albert Einstein , some form of energy quantization must be assumed to account for the thermal equilibrium observed between matter and electromagnetic radiation ; for this explanat\n",
      "= General relativity = General relativity ( GR , also known as the general theory of relativity or GTR ) is the geometric theory of gravitation published by Albert Einstein in 1915 and the curre\n",
      "= Sylvester 's sequence = In number theory , Sylvester 's sequence is an integer sequence in which each member of the sequence is the product of the previous members , plus one . The first few t\n",
      "= Fizeau experiment = The Fizeau experiment was carried out by Hippolyte Fizeau in 1851 to measure the relative speeds of light in moving water . Fizeau used a special interferometer arrangement\n",
      "= mc2 . The speed at which light propagates through transparent materials , such as glass or air , is less than c ; similarly , the speed of radio waves in wire cables is slower than c . The ratio\n",
      "= Photon = A photon is an elementary particle , the quantum of all forms of electromagnetic radiation including light . It is the force carrier for electromagnetic force , even when static via v\n",
      "= Jürgen Ehlers = Jürgen Ehlers ( German : [ ˈjʏʁɡŋ ̩ ˈeːlɐs ] ; 29 December 1929 – 20 May 2008 ) was a German physicist who contributed to the understanding of Albert Einstein 's theory of gene\n",
      "====================================================================================================\n",
      "You searched for: \"spanish\"\n",
      "----------------------------------------------------------------------------------------------------\n",
      "= Action of 26 April 1797 = The Action of 26 April 1797 was a minor naval engagement during the French Revolutionary Wars in which a Spanish convoy of two frigates was trapped and defeated off t\n",
      "= Battle of Flint River = The Battle of Flint River was a failed attack by Spanish and Apalachee Indian forces against Creek Indians in October 1702 in what is now the state of Georgia . The bat\n",
      "= Leopard 2E = The Leopard 2E or Leopard 2A6E ( E stands for España , Spanish for Spain ) is a variant of the German Leopard 2 main battle tank , tailored to the requirements of the Spanish army\n",
      "= My French Coach and My Spanish Coach = My French Coach and My Spanish Coach are educational games developed by Sensory Sweep Studios and published by Ubisoft for the Nintendo DS , iOS , PlaySt\n",
      "= Spanish conquest of the Maya = The Spanish conquest of the Maya was a protracted conflict during the Spanish colonisation of the Americas , in which the Spanish conquistadores and their allies\n",
      "= Spanish battleship Alfonso XIII = Alfonso XIII was a Spanish dreadnought battleship , the second member of the España class . She had two sister ships , España and Jaime I. Alfonso XIII was bu\n",
      "= Battle of Zutphen = The Battle of Zutphen was fought on 22 September 1586 , near the village of Warnsveld and the town of Zutphen , the Netherlands , during the Eighty Years ' War . It was fou\n",
      "= Irreemplazable = Irreemplazable is the first extended play by American recording artist Beyoncé . Comprising Spanish , English and Spanglish re @-@ recordings of songs from her second studio a\n",
      "= List of battleships of Spain = In the latter half of the 19th century , the Spanish Navy had built a series of ironclad warships that culminated in the barbette ship Pelayo in the 1880s . Foll\n",
      "= Spanish conquest of Guatemala = The Spanish conquest of Guatemala was a protracted conflict during the Spanish colonisation of the Americas , in which Spanish colonisers gradually incorporated\n",
      "====================================================================================================\n",
      "You searched for: \"india\"\n",
      "----------------------------------------------------------------------------------------------------\n",
      "= AirAsia India = AirAsia India is an Indian low cost carrier headquartered in Chennai , India . The airline is a joint venture with AirAsia Berhad holding 49 % stake in the airline , Tata Sons\n",
      "= Air India = Air India is the flag carrier airline of India and the third largest airline in India in terms of passengers carried , after IndiGo and Jet Airways . It is owned by Air India Limit\n",
      "= Political integration of India = At the time of Indian independence in 1947 , India was divided into two sets of territories , one under the control of the British Empire , and the other over\n",
      "= India = India , officially the Republic of India ( Sanskrit : Bhārata Gaṇarājya ) , is a country in South Asia . It is the seventh @-@ largest country by area , the second @-@ most populous co\n",
      "= India at the 2011 Commonwealth Youth Games = India competed at the 2011 Commonwealth Youth Games ( officially known as the IV Commonwealth Youth Games ) held in the Isle of Man from 7 to 13 Se\n",
      "= Economic development in India = The economic development in India followed socialist @-@ inspired policies for most of its independent history , including state @-@ ownership of many sectors ;\n",
      "= Kapil Dev as Indian national cricket coach = Kapil Dev was appointed the Indian national cricket coach in September 1999 following the appointment of Sachin Tendulkar as captain of the Indian\n",
      "= Gateway of India = The Gateway of India is a monument built during the 20th century in Mumbai City of Maharashtra state in Western India . It is located on the waterfront in the Apollo Bunder\n",
      "= Chak De ! India = Chak De ! India ( English : Go For it ! India or Go ! India ) is a 2007 Hindi @-@ language Indian sports film , directed by Shimit Amin and Rob Miller ( sports scenes ) , pro\n",
      "= Independence Day ( India ) = Independence Day , observed annually on 15 August is a national holiday in India commemorating the nation 's independence from the British Empire on 15 August 1947\n",
      "====================================================================================================\n"
     ]
    },
    {
     "name": "stdout",
     "output_type": "stream",
     "text": [
      "You searched for: \"director\"\n",
      "----------------------------------------------------------------------------------------------------\n",
      "= Director ^ ‡ = Supervising director = = DVD release = =\n",
      "= Bruce Straley = Bruce Straley is an American game director , artist and designer for the video game developer Naughty Dog , known for his work in the video games The Last of Us and Uncharted 4\n",
      "= Donnie Darko : The Director 's Cut = Donnie Darko : The Director 's Cut is a 2004 extended version of Richard Kelly 's directorial debut , Donnie Darko . A critical success but a commercial fa\n",
      "= Mary Margaret O 'Reilly = Mary Margaret O 'Reilly ( October 14 , 1865 – December 6 , 1949 ) was an American civil servant who worked as the Assistant Director of the United States Bureau of th\n",
      "= Shane Hurlbut = Shane Hurlbut ( born 1964 ) , also credited as L. Shane Hurlbut , is an American cinematographer . Originally from Ithaca , New York , he grew up near Cayuga Lake , and graduat\n",
      "= Portland Center Stage = Portland Center Stage ( PCS ) is a theater company based in Portland , Oregon , United States . Theater productions are presented at the Gerding Theater at the Armory i\n",
      "= John Berry ( administrator ) = Morrell John Berry ( born February 10 , 1959 ) is the United States Ambassador to Australia . He used to be director of the United States Office of Personnel Man\n",
      "= Olly Blackburn = Olly Blackburn ( also credited as Oliver Blackburn and Ollie Blackburn ) is a film director and screenwriter . Born in London , England , Blackburn had an acting role in the 1\n",
      "= A 29 @-@ Cent Robbery = A 29 @-@ Cent Robbery is a 1910 American silent short drama produced by the Thanhouser Company . The film features the debut of Marie Eline in the main role as Edna Rob\n",
      "= Shangguan Yunzhu = Shangguan Yunzhu ( Chinese : 上官雲珠 ; Wade – Giles : Shang @-@ kuan Yün @-@ chu ; 2 March 1920 – 23 November 1968 ) was a Chinese actress active from the 1940s to the 1960s .\n",
      "====================================================================================================\n",
      "You searched for: \"what are popular religions in the world\"\n",
      "----------------------------------------------------------------------------------------------------\n",
      "= Qualified for repechage ; WR = World record ; OR\n",
      "= Qualified for the next round ; WR = World record ; OR\n",
      "= Points earned towards total score ; WR = World record ; OR\n",
      "= A. Merritt 's Fantasy Magazine = A. Merritt 's Fantasy Magazine was a pulp magazine which published five issues from December 1949 to October 1950 . It took its name from fantasy writer A. Mer\n",
      "= First World = The concept of the First World originated during the Cold War and included countries that were generally aligned with or on friendly terms with the United States ( including all\n",
      "= State of the World ( song ) = \" State of the World \" is a song recorded by American singer Janet Jackson for her fourth studio album , Janet Jackson 's Rhythm Nation 1814 ( 1989 ) . It was wri\n",
      "= World Heavyweight Championship ( WWE ) = The World Heavyweight Championship was a professional wrestling world heavyweight championship owned by WWE . It was one of two top championships in WW\n",
      "= Our World ( TV series ) = Our World is an American television news series that ran for 26 episodes , from September 25 , 1986 to May 28 , 1987 . The show was anchored by Linda Ellerbee and Ray\n",
      "= Quarter @-@ Finals ( top 8 ) ; Group = did not advance beyond first round ( group play ) [ Solna borders Stockholm , Pasadena borders Los Angeles and Saint @-@ Denis is a suburb of Paris . ]\n",
      "= An Ideal World = An Ideal World ( simplified Chinese : 寻找自我的世界 ; traditional Chinese : 尋找自我的世界 ; pinyin : xún zhăo zì wŏ de shì jiè \" Seek Self 's World \" ) is a full @-@ color Chinese manhua\n",
      "====================================================================================================\n"
     ]
    }
   ],
   "source": [
    "# Perform query search using larger articles selections\n",
    "for query in query_list:\n",
    "    results = engine.search(query)\n",
    "    engine.display_results(query, results)"
   ]
  },
  {
   "cell_type": "code",
   "execution_count": null,
   "metadata": {},
   "outputs": [],
   "source": []
  }
 ],
 "metadata": {
  "kernelspec": {
   "display_name": "Python 3",
   "language": "python",
   "name": "python3"
  },
  "language_info": {
   "codemirror_mode": {
    "name": "ipython",
    "version": 3
   },
   "file_extension": ".py",
   "mimetype": "text/x-python",
   "name": "python",
   "nbconvert_exporter": "python",
   "pygments_lexer": "ipython3",
   "version": "3.6.7"
  }
 },
 "nbformat": 4,
 "nbformat_minor": 2
}
